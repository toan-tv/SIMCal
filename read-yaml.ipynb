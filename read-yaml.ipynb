{
 "cells": [
  {
   "cell_type": "code",
   "execution_count": 7,
   "id": "02be5f8f",
   "metadata": {},
   "outputs": [],
   "source": [
    "import yaml\n",
    "import numpy as np"
   ]
  },
  {
   "cell_type": "code",
   "execution_count": 16,
   "id": "bf7f7bc7",
   "metadata": {},
   "outputs": [],
   "source": [
    "with open('./dataset/Corridor/PSO_cfg_high_demand.yaml', 'r') as file:\n",
    "    prime_service = yaml.safe_load(file)"
   ]
  },
  {
   "cell_type": "code",
   "execution_count": 20,
   "id": "80e7cb68",
   "metadata": {},
   "outputs": [
    {
     "data": {
      "text/plain": [
       "numpy.datetime64('2021-05-11T12:00:00')"
      ]
     },
     "execution_count": 20,
     "metadata": {},
     "output_type": "execute_result"
    }
   ],
   "source": [
    "np.datetime64(prime_service['simulation']['start'].date()) + np.timedelta64(43200, 's')"
   ]
  },
  {
   "cell_type": "code",
   "execution_count": null,
   "id": "eafd2afa",
   "metadata": {},
   "outputs": [],
   "source": []
  },
  {
   "cell_type": "code",
   "execution_count": 14,
   "id": "7f676603",
   "metadata": {},
   "outputs": [
    {
     "data": {
      "text/plain": [
       "datetime.datetime(2021, 5, 11, 12, 0)"
      ]
     },
     "execution_count": 14,
     "metadata": {},
     "output_type": "execute_result"
    }
   ],
   "source": [
    "prime_service['simulation']['start']"
   ]
  },
  {
   "cell_type": "code",
   "execution_count": null,
   "id": "d6f94966",
   "metadata": {},
   "outputs": [],
   "source": []
  }
 ],
 "metadata": {
  "kernelspec": {
   "display_name": "Python 3 (ipykernel)",
   "language": "python",
   "name": "python3"
  },
  "language_info": {
   "codemirror_mode": {
    "name": "ipython",
    "version": 3
   },
   "file_extension": ".py",
   "mimetype": "text/x-python",
   "name": "python",
   "nbconvert_exporter": "python",
   "pygments_lexer": "ipython3",
   "version": "3.8.10"
  }
 },
 "nbformat": 4,
 "nbformat_minor": 5
}
